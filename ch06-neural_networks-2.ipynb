{
 "cells": [
  {
   "cell_type": "code",
   "execution_count": 255,
   "metadata": {},
   "outputs": [],
   "source": [
    "import time\n",
    "import numpy as np\n",
    "from matplotlib import pyplot as plt\n",
    "import jax\n",
    "import jax.numpy as jnp\n",
    "import optax\n",
    "from flax import nnx\n",
    "from flax.training import train_state"
   ]
  },
  {
   "cell_type": "code",
   "execution_count": 193,
   "metadata": {},
   "outputs": [
    {
     "data": {
      "text/plain": [
       "((11, 1), (11, 1))"
      ]
     },
     "execution_count": 193,
     "metadata": {},
     "output_type": "execute_result"
    }
   ],
   "source": [
    "t_c = jnp.array([0.5,  14.0, 15.0, 28.0, 11.0,  8.0,  3.0, -4.0,  6.0, 13.0, 21.0])\n",
    "t_u = jnp.array([35.7, 55.9, 58.2, 81.9, 56.3, 48.9, 33.9, 21.8, 48.4, 60.4, 68.4])\n",
    "t_c = t_c[..., jnp.newaxis]\n",
    "t_u = jnp.expand_dims(t_u, 1)\n",
    "\n",
    "t_c.shape, t_u.shape"
   ]
  },
  {
   "cell_type": "code",
   "execution_count": 194,
   "metadata": {},
   "outputs": [],
   "source": [
    "def get_random_key():\n",
    "  \"\"\"Generates a new random key for each call.\"\"\"\n",
    "  seed = int(time.time() * 1000) \n",
    "  return jax.random.key(seed)"
   ]
  },
  {
   "cell_type": "code",
   "execution_count": 195,
   "metadata": {},
   "outputs": [
    {
     "data": {
      "text/plain": [
       "(Array([ 1,  4, 10,  2,  8,  5,  7,  0,  6], dtype=int32),\n",
       " Array([3, 9], dtype=int32))"
      ]
     },
     "execution_count": 195,
     "metadata": {},
     "output_type": "execute_result"
    }
   ],
   "source": [
    "n_samples = t_u.shape[0]\n",
    "n_val = int(0.2 * n_samples)\n",
    "\n",
    "shuffled_indices = jax.random.permutation(get_random_key(), n_samples)\n",
    "\n",
    "train_indices = shuffled_indices[:-n_val]\n",
    "val_indices = shuffled_indices[-n_val:]\n",
    "\n",
    "train_indices, val_indices"
   ]
  },
  {
   "cell_type": "code",
   "execution_count": 196,
   "metadata": {},
   "outputs": [],
   "source": [
    "t_u_train = t_u[train_indices]\n",
    "t_c_train = t_c[train_indices]\n",
    "\n",
    "t_u_val = t_u[val_indices]\n",
    "t_c_val = t_c[val_indices]\n",
    "\n",
    "t_un_train = 0.1 * t_u_train\n",
    "t_un_val = 0.1 * t_u_val"
   ]
  },
  {
   "cell_type": "code",
   "execution_count": 197,
   "metadata": {},
   "outputs": [
    {
     "data": {
      "text/plain": [
       "Array([[15.186794],\n",
       "       [11.200029]], dtype=float32)"
      ]
     },
     "execution_count": 197,
     "metadata": {},
     "output_type": "execute_result"
    }
   ],
   "source": [
    "linear_model = nnx.Linear(in_features=1, out_features=1, rngs=nnx.Rngs(0))\n",
    "linear_model(t_un_val)"
   ]
  },
  {
   "cell_type": "code",
   "execution_count": 198,
   "metadata": {},
   "outputs": [
    {
     "data": {
      "text/plain": [
       "Param(\n",
       "  value=Array([[1.8543093]], dtype=float32)\n",
       ")"
      ]
     },
     "execution_count": 198,
     "metadata": {},
     "output_type": "execute_result"
    }
   ],
   "source": [
    "linear_model.kernel"
   ]
  },
  {
   "cell_type": "code",
   "execution_count": 199,
   "metadata": {},
   "outputs": [
    {
     "data": {
      "text/plain": [
       "Param(\n",
       "  value=Array([0.], dtype=float32)\n",
       ")"
      ]
     },
     "execution_count": 199,
     "metadata": {},
     "output_type": "execute_result"
    }
   ],
   "source": [
    "linear_model.bias"
   ]
  },
  {
   "cell_type": "code",
   "execution_count": 200,
   "metadata": {},
   "outputs": [
    {
     "data": {
      "text/plain": [
       "Array([1.8543093], dtype=float32)"
      ]
     },
     "execution_count": 200,
     "metadata": {},
     "output_type": "execute_result"
    }
   ],
   "source": [
    "x = jnp.ones(1)\n",
    "linear_model(x)"
   ]
  },
  {
   "cell_type": "code",
   "execution_count": 201,
   "metadata": {},
   "outputs": [
    {
     "data": {
      "text/plain": [
       "Array([[1.8543093],\n",
       "       [1.8543093],\n",
       "       [1.8543093],\n",
       "       [1.8543093],\n",
       "       [1.8543093],\n",
       "       [1.8543093],\n",
       "       [1.8543093],\n",
       "       [1.8543093],\n",
       "       [1.8543093],\n",
       "       [1.8543093]], dtype=float32)"
      ]
     },
     "execution_count": 201,
     "metadata": {},
     "output_type": "execute_result"
    }
   ],
   "source": [
    "x = jnp.ones((10, 1))\n",
    "linear_model(x)"
   ]
  },
  {
   "cell_type": "code",
   "execution_count": 243,
   "metadata": {},
   "outputs": [],
   "source": [
    "class TrainState(train_state.TrainState):\n",
    "  graphdef: nnx.GraphDef"
   ]
  },
  {
   "cell_type": "code",
   "execution_count": 289,
   "metadata": {},
   "outputs": [],
   "source": [
    "graphdef, params = nnx.split(linear_model, nnx.Param)"
   ]
  },
  {
   "cell_type": "code",
   "execution_count": 290,
   "metadata": {},
   "outputs": [],
   "source": [
    "state = TrainState.create(\n",
    "  apply_fn=None,\n",
    "  graphdef=graphdef,\n",
    "  params=params,\n",
    "  tx=optax.sgd(1e-2))"
   ]
  },
  {
   "cell_type": "code",
   "execution_count": 291,
   "metadata": {},
   "outputs": [],
   "source": [
    "@jax.jit\n",
    "def train_step(state: nnx.TrainState, batch):\n",
    "  x, y = batch\n",
    "\n",
    "  def loss_fn(params):\n",
    "    model = nnx.merge(state.graphdef, params)\n",
    "    y_pred = model(x)\n",
    "    loss = optax.losses.squared_error(predictions=y_pred, targets=y).mean()\n",
    "    return loss\n",
    "  \n",
    "  loss, grads = jax.value_and_grad(loss_fn)(state.params)\n",
    "  state = state.apply_gradients(grads=grads)\n",
    "  ## SGD from scratch\n",
    "  # params = jax.tree.map(lambda w, g: w - 0.1 * g, params, grads)\n",
    "  \n",
    "  return loss, state"
   ]
  },
  {
   "cell_type": "code",
   "execution_count": 292,
   "metadata": {},
   "outputs": [],
   "source": [
    "@jax.jit\n",
    "def test_step(state: nnx.TrainState, batch):\n",
    "  x, y = batch\n",
    "  model = nnx.merge(state.graphdef, state.params)\n",
    "  y_pred = model(x)\n",
    "  loss = jnp.mean((y - y_pred) ** 2)\n",
    "  return {'loss': loss}"
   ]
  },
  {
   "cell_type": "code",
   "execution_count": 293,
   "metadata": {},
   "outputs": [
    {
     "name": "stdout",
     "output_type": "stream",
     "text": [
      "Epoch 1, Training loss 24.8128, Validation loss 75.2284\n",
      "Epoch 1000, Training loss 3.9652, Validation loss 8.6205\n",
      "Epoch 2000, Training loss 2.9072, Validation loss 4.1459\n",
      "Epoch 3000, Training loss 2.8523, Validation loss 3.5954\n"
     ]
    }
   ],
   "source": [
    "n_epochs = 3000\n",
    "\n",
    "for epoch in range(1, n_epochs + 1):\n",
    "  loss_train, state = train_step(state, (t_un_train, t_c_train))\n",
    "\n",
    "  if epoch == 1 or epoch % 1000 == 0:\n",
    "    logs = test_step(state, (t_un_val, t_c_val))\n",
    "    print(f\"Epoch {epoch}, Training loss {loss_train:.4f},\"\n",
    "          f\" Validation loss {logs['loss']:.4f}\")"
   ]
  },
  {
   "cell_type": "code",
   "execution_count": 294,
   "metadata": {},
   "outputs": [
    {
     "data": {
      "image/png": "[encoded data removed]",
      "text/plain": [
       "<Figure size 640x480 with 1 Axes>"
      ]
     },
     "metadata": {},
     "output_type": "display_data"
    }
   ],
   "source": [
    "t_range = jnp.arange(20., 90.)[..., None]\n",
    "\n",
    "plt.xlabel(\"Fahrenheit\")\n",
    "plt.ylabel(\"Celsius\")\n",
    "plt.plot(t_u, t_c, 'o')\n",
    "plt.plot(t_range, nnx.merge(state.graphdef, state.params)(0.1 * t_range), 'c-')\n",
    "plt.plot(t_u, nnx.merge(state.graphdef, state.params)(0.1 * t_u), 'kx')\n",
    "plt.show()"
   ]
  },
  {
   "cell_type": "code",
   "execution_count": 250,
   "metadata": {},
   "outputs": [
    {
     "data": {
      "text/plain": [
       "SeqModel(\n",
       "  hidden_linear=Linear(\n",
       "    kernel=Param(\n",
       "      value=Array(shape=(1, 13), dtype=float32)\n",
       "    ),\n",
       "    bias=Param(\n",
       "      value=Array(shape=(13,), dtype=float32)\n",
       "    ),\n",
       "    in_features=1,\n",
       "    out_features=13,\n",
       "    use_bias=True,\n",
       "    dtype=None,\n",
       "    param_dtype=<class 'jax.numpy.float32'>,\n",
       "    precision=None,\n",
       "    kernel_init=<function variance_scaling.<locals>.init at 0x11470b920>,\n",
       "    bias_init=<function zeros at 0x113d6f920>,\n",
       "    dot_general=<function dot_general at 0x11369d120>\n",
       "  ),\n",
       "  output_linear=Linear(\n",
       "    kernel=Param(\n",
       "      value=Array(shape=(13, 1), dtype=float32)\n",
       "    ),\n",
       "    bias=Param(\n",
       "      value=Array([0.], dtype=float32)\n",
       "    ),\n",
       "    in_features=13,\n",
       "    out_features=1,\n",
       "    use_bias=True,\n",
       "    dtype=None,\n",
       "    param_dtype=<class 'jax.numpy.float32'>,\n",
       "    precision=None,\n",
       "    kernel_init=<function variance_scaling.<locals>.init at 0x11470b920>,\n",
       "    bias_init=<function zeros at 0x113d6f920>,\n",
       "    dot_general=<function dot_general at 0x11369d120>\n",
       "  )\n",
       ")"
      ]
     },
     "execution_count": 250,
     "metadata": {},
     "output_type": "execute_result"
    }
   ],
   "source": [
    "class SeqModel(nnx.Module):\n",
    "  def __init__(self, din, dhidden, dout, *, rngs: nnx.Rngs):\n",
    "    self.hidden_linear = nnx.Linear(din, dhidden, rngs=rngs)\n",
    "    self.output_linear = nnx.Linear(dhidden, dout, rngs=rngs)\n",
    "\n",
    "  def __call__(self, x):\n",
    "    x = self.hidden_linear(x)\n",
    "    x = nnx.tanh(x)\n",
    "    x = self.output_linear(x)\n",
    "    return x\n",
    "  \n",
    "seq_model = SeqModel(1, 13, 1, rngs=nnx.Rngs(0))\n",
    "seq_model"
   ]
  },
  {
   "cell_type": "code",
   "execution_count": 251,
   "metadata": {},
   "outputs": [
    {
     "data": {
      "text/plain": [
       "State({\n",
       "  'hidden_linear': {\n",
       "    'bias': VariableState(\n",
       "      type=Param,\n",
       "      value=Array([0., 0., 0., 0., 0., 0., 0., 0., 0., 0., 0., 0., 0.], dtype=float32)\n",
       "    ),\n",
       "    'kernel': VariableState(\n",
       "      type=Param,\n",
       "      value=Array([[-0.49798158,  1.6884631 , -0.7463181 , -0.52964056,  0.6734688 ,\n",
       "              -0.78850216, -1.0442387 , -0.11063416, -0.42331228,  0.41268215,\n",
       "              -0.19413577,  0.43233663,  0.71943283]], dtype=float32)\n",
       "    )\n",
       "  },\n",
       "  'output_linear': {\n",
       "    'bias': VariableState(\n",
       "      type=Param,\n",
       "      value=Array([0.], dtype=float32)\n",
       "    ),\n",
       "    'kernel': VariableState(\n",
       "      type=Param,\n",
       "      value=Array([[ 0.35934874],\n",
       "             [-0.01674489],\n",
       "             [ 0.25967693],\n",
       "             [-0.5509369 ],\n",
       "             [-0.24052937],\n",
       "             [-0.4552123 ],\n",
       "             [-0.2140172 ],\n",
       "             [ 0.30891147],\n",
       "             [ 0.11720062],\n",
       "             [-0.06226148],\n",
       "             [-0.22391668],\n",
       "             [ 0.4279803 ],\n",
       "             [-0.07482409]], dtype=float32)\n",
       "    )\n",
       "  }\n",
       "})"
      ]
     },
     "execution_count": 251,
     "metadata": {},
     "output_type": "execute_result"
    }
   ],
   "source": [
    "seq_params = nnx.state(seq_model, nnx.Param)\n",
    "seq_params"
   ]
  },
  {
   "cell_type": "code",
   "execution_count": 252,
   "metadata": {},
   "outputs": [
    {
     "data": {
      "text/plain": [
       "State({\n",
       "  'hidden_linear': {\n",
       "    'bias': VariableState(\n",
       "      type=Param,\n",
       "      value=(13,)\n",
       "    ),\n",
       "    'kernel': VariableState(\n",
       "      type=Param,\n",
       "      value=(1, 13)\n",
       "    )\n",
       "  },\n",
       "  'output_linear': {\n",
       "    'bias': VariableState(\n",
       "      type=Param,\n",
       "      value=(1,)\n",
       "    ),\n",
       "    'kernel': VariableState(\n",
       "      type=Param,\n",
       "      value=(13, 1)\n",
       "    )\n",
       "  }\n",
       "})"
      ]
     },
     "execution_count": 252,
     "metadata": {},
     "output_type": "execute_result"
    }
   ],
   "source": [
    "jax.tree.map(jnp.shape, seq_params)"
   ]
  },
  {
   "cell_type": "code",
   "execution_count": 253,
   "metadata": {},
   "outputs": [
    {
     "data": {
      "text/plain": [
       "Param(\n",
       "  value=Array([0.], dtype=float32)\n",
       ")"
      ]
     },
     "execution_count": 253,
     "metadata": {},
     "output_type": "execute_result"
    }
   ],
   "source": [
    "seq_model.output_linear.bias"
   ]
  },
  {
   "cell_type": "code",
   "execution_count": 282,
   "metadata": {},
   "outputs": [],
   "source": [
    "graphdef, params = nnx.split(seq_model, nnx.Param)"
   ]
  },
  {
   "cell_type": "code",
   "execution_count": 283,
   "metadata": {},
   "outputs": [],
   "source": [
    "optimizer = optax.sgd(learning_rate=1e-3)\n",
    "opt_state = optimizer.init(params)"
   ]
  },
  {
   "cell_type": "code",
   "execution_count": 284,
   "metadata": {},
   "outputs": [],
   "source": [
    "@jax.jit\n",
    "def train_step(params, opt_state, graphdef, batch):\n",
    "  x, y = batch\n",
    "\n",
    "  def loss_fn(params):\n",
    "    model = nnx.merge(graphdef, params)\n",
    "    y_pred = model(x)\n",
    "    loss = optax.losses.squared_error(predictions=y_pred, targets=y).mean()\n",
    "    return loss\n",
    "\n",
    "  loss, grad = jax.value_and_grad(loss_fn)(params)\n",
    "  updates, opt_state = optimizer.update(grad, opt_state)\n",
    "  params = optax.apply_updates(params, updates)\n",
    "\n",
    "  return loss, params, opt_state"
   ]
  },
  {
   "cell_type": "code",
   "execution_count": 285,
   "metadata": {},
   "outputs": [],
   "source": [
    "@jax.jit\n",
    "def test_step(params, graphdef, batch):\n",
    "  x, y = batch\n",
    "  model = nnx.merge(graphdef, params)\n",
    "  y_pred = model(x)\n",
    "  loss = jnp.mean((y - y_pred) ** 2)\n",
    "  return {'loss': loss}"
   ]
  },
  {
   "cell_type": "code",
   "execution_count": 286,
   "metadata": {},
   "outputs": [
    {
     "name": "stdout",
     "output_type": "stream",
     "text": [
      "Epoch 1, Training loss 114.7493, Validation loss 446.7541\n",
      "Epoch 1000, Training loss 4.5596, Validation loss 37.7680\n",
      "Epoch 2000, Training loss 3.0941, Validation loss 20.0431\n",
      "Epoch 3000, Training loss 2.3566, Validation loss 12.4853\n",
      "Epoch 4000, Training loss 2.0051, Validation loss 8.5606\n",
      "Epoch 5000, Training loss 1.8461, Validation loss 6.6060\n"
     ]
    }
   ],
   "source": [
    "n_epochs = 5000\n",
    "\n",
    "for epoch in range(1, n_epochs + 1):\n",
    "  loss_train, params, opt_state = \\\n",
    "    train_step(params, opt_state, graphdef, (t_un_train, t_c_train))\n",
    "\n",
    "  if epoch == 1 or epoch % 1000 == 0:\n",
    "    logs = test_step(params, graphdef, (t_un_val, t_c_val))\n",
    "    print(f\"Epoch {epoch}, Training loss {loss_train:.4f},\"\n",
    "          f\" Validation loss {logs['loss']:.4f}\")"
   ]
  },
  {
   "cell_type": "code",
   "execution_count": 287,
   "metadata": {},
   "outputs": [
    {
     "name": "stdout",
     "output_type": "stream",
     "text": [
      "output [[25.41354 ]\n",
      " [15.553859]]\n",
      "answer [[28.]\n",
      " [13.]]\n",
      "hidden Param(\n",
      "  value=Array([[-0.6269858 ,  1.6869128 , -0.72232056, -0.520648  ,  0.6069046 ,\n",
      "          -0.2606868 , -1.008883  ,  0.3054991 , -0.25107768,  0.26034996,\n",
      "          -0.3672691 ,  0.48064238,  0.6510663 ]], dtype=float32)\n",
      ")\n"
     ]
    }
   ],
   "source": [
    "print('output', nnx.merge(graphdef, params)(t_un_val))\n",
    "print('answer', t_c_val)\n",
    "print('hidden', nnx.merge(graphdef, params).hidden_linear.kernel)"
   ]
  },
  {
   "cell_type": "code",
   "execution_count": 288,
   "metadata": {
    "scrolled": true
   },
   "outputs": [
    {
     "data": {
      "image/png": "[encoded data removed]",
      "text/plain": [
       "<Figure size 640x480 with 1 Axes>"
      ]
     },
     "metadata": {},
     "output_type": "display_data"
    }
   ],
   "source": [
    "t_range = jnp.arange(20., 90.)[..., None]\n",
    "\n",
    "plt.xlabel(\"Fahrenheit\")\n",
    "plt.ylabel(\"Celsius\")\n",
    "plt.plot(t_u, t_c, 'o')\n",
    "plt.plot(t_range, nnx.merge(graphdef, params)(0.1 * t_range), 'c-')\n",
    "plt.plot(t_u, nnx.merge(graphdef, params)(0.1 * t_u), 'kx')\n",
    "plt.show()"
   ]
  }
 ],
 "metadata": {
  "kernelspec": {
   "display_name": "Python 3",
   "language": "python",
   "name": "python3"
  },
  "language_info": {
   "codemirror_mode": {
    "name": "ipython",
    "version": 3
   },
   "file_extension": ".py",
   "mimetype": "text/x-python",
   "name": "python",
   "nbconvert_exporter": "python",
   "pygments_lexer": "ipython3",
   "version": "3.11.11"
  }
 },
 "nbformat": 4,
 "nbformat_minor": 2
}
